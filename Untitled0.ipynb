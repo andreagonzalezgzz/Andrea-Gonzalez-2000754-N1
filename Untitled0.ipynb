{
  "nbformat": 4,
  "nbformat_minor": 0,
  "metadata": {
    "colab": {
      "provenance": [],
      "authorship_tag": "ABX9TyO5erHvu2Wfg9q8MtByep74",
      "include_colab_link": true
    },
    "kernelspec": {
      "name": "python3",
      "display_name": "Python 3"
    },
    "language_info": {
      "name": "python"
    }
  },
  "cells": [
    {
      "cell_type": "markdown",
      "metadata": {
        "id": "view-in-github",
        "colab_type": "text"
      },
      "source": [
        "<a href=\"https://colab.research.google.com/github/andreagonzalezgzz/Andrea-Gonzalez-2000754-N1/blob/main/Untitled0.ipynb\" target=\"_parent\"><img src=\"https://colab.research.google.com/assets/colab-badge.svg\" alt=\"Open In Colab\"/></a>"
      ]
    },
    {
      "cell_type": "code",
      "execution_count": 33,
      "metadata": {
        "colab": {
          "base_uri": "https://localhost:8080/"
        },
        "id": "5QzmYUzUC8yZ",
        "outputId": "64af6a18-7f7f-41d2-dcc5-9a43d716bed0"
      },
      "outputs": [
        {
          "output_type": "stream",
          "name": "stdout",
          "text": [
            "¿Cuál es tu nombre?andrea\n",
            "Hola andrea\n"
          ]
        }
      ],
      "source": [
        "# Actividad 2 diseño de algoritmos en Paython\n",
        "# Andrea Anahi Gonzalez Gonzalez 2000754  N1\n",
        "nombre=input(\"¿Cuál es tu nombre?\")\n",
        "if nombre.lower() in[\"ana\",\"juan\",\"pedro\"]:\n",
        "  print(\"Hola\")\n",
        "\n",
        "else:\n",
        "  print(f\"Hola {nombre}\")\n"
      ]
    },
    {
      "cell_type": "code",
      "source": [
        "# Andrea Anahi Gonzalez Gonzalez 2000754  N1\n",
        "def invertir_lista():\n",
        "    n = int(input(\"Ingrese la cantidad de elementos en la lista: \"))\n",
        "    lista_original = []\n",
        "    for i in range(n):\n",
        "        elemento = input(f\"Ingrese el elemento {i + 1}: \")\n",
        "        lista_original.append(elemento)\n",
        "    lista_invertida = lista_original[::-1]\n",
        "    print(\"\\nLista Original:\", lista_original)\n",
        "    print(\"Lista Invertida:\", lista_invertida)\n",
        "invertir_lista()\n",
        "\n"
      ],
      "metadata": {
        "colab": {
          "base_uri": "https://localhost:8080/"
        },
        "id": "pW2b1RWgHfIy",
        "outputId": "ca599e96-a25d-4e9e-c3a4-8296e8a9e11a"
      },
      "execution_count": 35,
      "outputs": [
        {
          "output_type": "stream",
          "name": "stdout",
          "text": [
            "Ingrese la cantidad de elementos en la lista: 5\n",
            "Ingrese el elemento 1: 3\n",
            "Ingrese el elemento 2: 7\n",
            "Ingrese el elemento 3: 5\n",
            "Ingrese el elemento 4: 8\n",
            "Ingrese el elemento 5: 4\n",
            "\n",
            "Lista Original: ['3', '7', '5', '8', '4']\n",
            "Lista Invertida: ['4', '8', '5', '7', '3']\n"
          ]
        }
      ]
    },
    {
      "cell_type": "code",
      "source": [
        "# Andrea Anahi Gonzalez Gonzalez 2000754  N1\n",
        "def generar_fibonacci(n):\n",
        "    fibonacci = [0, 1]\n",
        "\n",
        "    for i in range(2, n):\n",
        "        siguiente_numero = fibonacci[i-1] + fibonacci[i-2]\n",
        "        fibonacci.append(siguiente_numero)\n",
        "\n",
        "    return fibonacci\n",
        "cantidad= int(input(\"Ingrese la cantidad de números de la serie de Fibonacci que desea generar: \"))\n",
        "\n",
        "seriefibonacci = generar_fibonacci(cantidad)\n",
        "print(f\"Los primeros {cantidad} números de la serie de Fibonacci son: {seriefibonacci}\")\n"
      ],
      "metadata": {
        "colab": {
          "base_uri": "https://localhost:8080/"
        },
        "id": "xIWPH1hwKEzY",
        "outputId": "3e164f67-ff37-458c-9e5c-1a696c9662e5"
      },
      "execution_count": 36,
      "outputs": [
        {
          "output_type": "stream",
          "name": "stdout",
          "text": [
            "Ingrese la cantidad de números de la serie de Fibonacci que desea generar: 6\n",
            "Los primeros 6 números de la serie de Fibonacci son: [0, 1, 1, 2, 3, 5]\n"
          ]
        }
      ]
    },
    {
      "cell_type": "code",
      "source": [
        "# Andrea Anahi Gonzalez Gonzalez 2000754  N1\n",
        "import random\n",
        "def juego_adivinanza():\n",
        "    numero_objetivo = random.randint(1, 100)\n",
        "    intentos = 0\n",
        "    while True:\n",
        "        intento = int(input(\"Adivina el número entre 1 y 100: \"))\n",
        "        intentos += 1\n",
        "        if intento == numero_objetivo:\n",
        "            print(f\"¡Adivinaste el número en {intentos} intentos!\")\n",
        "            break\n",
        "        elif intento < numero_objetivo:\n",
        "            print(\"El número es mayor. Intenta nuevamente.\")\n",
        "        else:\n",
        "            print(\"El número es menor. Intenta nuevamente.\")\n",
        "juego_adivinanza()\n"
      ],
      "metadata": {
        "colab": {
          "base_uri": "https://localhost:8080/"
        },
        "id": "SOae4bcFNutt",
        "outputId": "67afe70f-e3d1-45d5-8d41-da3f79fc51e0"
      },
      "execution_count": 37,
      "outputs": [
        {
          "output_type": "stream",
          "name": "stdout",
          "text": [
            "Adivina el número entre 1 y 100: 20\n",
            "El número es mayor. Intenta nuevamente.\n",
            "Adivina el número entre 1 y 100: 30\n",
            "El número es mayor. Intenta nuevamente.\n",
            "Adivina el número entre 1 y 100: 50\n",
            "El número es mayor. Intenta nuevamente.\n",
            "Adivina el número entre 1 y 100: 70\n",
            "El número es mayor. Intenta nuevamente.\n",
            "Adivina el número entre 1 y 100: 90\n",
            "El número es menor. Intenta nuevamente.\n",
            "Adivina el número entre 1 y 100: 89\n",
            "El número es menor. Intenta nuevamente.\n",
            "Adivina el número entre 1 y 100: 85\n",
            "El número es menor. Intenta nuevamente.\n",
            "Adivina el número entre 1 y 100: 83\n",
            "El número es menor. Intenta nuevamente.\n",
            "Adivina el número entre 1 y 100: 82\n",
            "El número es menor. Intenta nuevamente.\n",
            "Adivina el número entre 1 y 100: 80\n",
            "El número es menor. Intenta nuevamente.\n",
            "Adivina el número entre 1 y 100: 75\n",
            "El número es menor. Intenta nuevamente.\n",
            "Adivina el número entre 1 y 100: 72\n",
            "El número es menor. Intenta nuevamente.\n",
            "Adivina el número entre 1 y 100: 71\n",
            "¡Adivinaste el número en 13 intentos!\n"
          ]
        }
      ]
    },
    {
      "cell_type": "code",
      "source": [
        "# Andrea Anahi Gonzalez Gonzalez 2000754  N1\n",
        "def es_primo(numero):\n",
        "    \"\"\"Verifica si un número dado es primo.\"\"\"\n",
        "    if numero < 2:\n",
        "        return False\n",
        "    for i in range(2, int(numero**0.5) + 1):\n",
        "        if numero % i == 0:\n",
        "            return False\n",
        "    return True\n",
        "def numeros_primos_en_rango():\n",
        "    inicio = int(input(\"Ingrese el inicio del rango: \"))\n",
        "    fin = int(input(\"Ingrese el final del rango: \"))\n",
        "    print(f\"\\nNúmeros primos en el rango de {inicio} a {fin}:\")\n",
        "    for num in range(inicio, fin + 1):\n",
        "        if es_primo(num):\n",
        "            print(num, end=\" \")\n",
        "numeros_primos_en_rango()\n"
      ],
      "metadata": {
        "colab": {
          "base_uri": "https://localhost:8080/"
        },
        "id": "rVUVyr15OuPE",
        "outputId": "ce8db5d0-aa91-4605-a121-1d570c95fd19"
      },
      "execution_count": 38,
      "outputs": [
        {
          "output_type": "stream",
          "name": "stdout",
          "text": [
            "Ingrese el inicio del rango: 1\n",
            "Ingrese el final del rango: 10\n",
            "\n",
            "Números primos en el rango de 1 a 10:\n",
            "2 3 5 7 "
          ]
        }
      ]
    },
    {
      "cell_type": "code",
      "source": [
        "# Andrea Anahi Gonzalez Gonzalez 2000754  N1\n",
        "def suma(num1, num2):\n",
        "    \"\"\"Realiza la operación de suma.\"\"\"\n",
        "    resultado = num1 + num2\n",
        "    return resultado\n",
        "def resta(num1, num2):\n",
        "    \"\"\"Realiza la operación de resta.\"\"\"\n",
        "    resultado = num1 - num2\n",
        "    return resultado\n",
        "def multiplicacion(num1, num2):\n",
        "    \"\"\"Realiza la operación de multiplicación.\"\"\"\n",
        "    resultado = num1 * num2\n",
        "    return resultado\n",
        "def division(num1, num2):\n",
        "    \"\"\"Realiza la operación de división.\"\"\"\n",
        "    if num2 != 0:\n",
        "        resultado = num1 / num2\n",
        "        return resultado\n",
        "    else:\n",
        "        return \"Error: No se puede dividir por cero.\"\n",
        "numero1 = float(input(\"Ingrese el primer número: \"))\n",
        "numero2 = float(input(\"Ingrese el segundo número: \"))\n",
        "print(f\"\\nResultados para {numero1} y {numero2}:\")\n",
        "print(f\"Suma: {suma(numero1, numero2)}\")\n",
        "print(f\"Resta: {resta(numero1, numero2)}\")\n",
        "print(f\"Multiplicación: {multiplicacion(numero1, numero2)}\")\n",
        "print(f\"División: {division(numero1, numero2)}\")\n"
      ],
      "metadata": {
        "colab": {
          "base_uri": "https://localhost:8080/"
        },
        "id": "84gaTa1EPJZc",
        "outputId": "7f3a68d6-e447-48ab-fca7-392f3cdafee1"
      },
      "execution_count": 32,
      "outputs": [
        {
          "output_type": "stream",
          "name": "stdout",
          "text": [
            "Ingrese el primer número: 2\n",
            "Ingrese el segundo número: 4\n",
            "\n",
            "Resultados para 2.0 y 4.0:\n",
            "Suma: 6.0\n",
            "Resta: -2.0\n",
            "Multiplicación: 8.0\n",
            "División: 0.5\n"
          ]
        }
      ]
    }
  ]
}